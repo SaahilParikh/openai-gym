{
 "cells": [
  {
   "cell_type": "code",
   "execution_count": 1,
   "metadata": {},
   "outputs": [],
   "source": [
    "import gym\n",
    "import random\n",
    "import numpy as np\n",
    "from gym.envs.registration import register\n",
    "import time\n",
    "from IPython.display import clear_output"
   ]
  },
  {
   "cell_type": "code",
   "execution_count": 2,
   "metadata": {},
   "outputs": [],
   "source": [
    "try:\n",
    "    register(\n",
    "        id='FrozenLakeNoSlip-v0',\n",
    "        entry_point='gym.envs.toy_text:FrozenLakeEnv',\n",
    "        kwargs={'map_name' : '4x4', 'is_slippery' : False},\n",
    "        max_episode_steps=100,\n",
    "        reward_threshold=0.70, # optimum = 0.74\n",
    "    )\n",
    "except:\n",
    "    pass\n",
    "\n",
    "env_name = \"FrozenLakeNoSlip-v0\"\n",
    "\n",
    "env = gym.make(env_name)"
   ]
  },
  {
   "cell_type": "code",
   "execution_count": 3,
   "metadata": {},
   "outputs": [],
   "source": [
    "class Agent:\n",
    "    def __init__(self, env):\n",
    "        self.is_discrete = type(env.action_space) == gym.spaces.discrete.Discrete\n",
    "        \n",
    "        if self.is_discrete:\n",
    "            self.action_size = env.action_space.n\n",
    "        else:\n",
    "            self.action_low = env.action_space.low\n",
    "            self.action_high = env.action_space.high\n",
    "            self.action_shape = env.action_space.shape\n",
    "        \n",
    "    def get_action(self, state):\n",
    "        if self.is_discrete:\n",
    "            return random.choice(range(self.action_size))\n",
    "        else:\n",
    "            return np.random.uniform(self.action_low,\n",
    "                              self.action_high,\n",
    "                              self.action_shape)"
   ]
  },
  {
   "cell_type": "code",
   "execution_count": 7,
   "metadata": {},
   "outputs": [],
   "source": [
    "class QAgent(Agent):\n",
    "    def __init__(self, env, discount_rate=0.97, learning_rate=0.2):\n",
    "        super().__init__(env)\n",
    "        self.state_size = env.observation_space.n\n",
    "        \n",
    "        self.eps = 1.0\n",
    "        self.learning_rate = learning_rate\n",
    "        self.discount_rate = discount_rate\n",
    "        self.build_model()\n",
    "    \n",
    "    def build_model(self):\n",
    "        self.q_table = 1e-4*np.random.random([self.state_size, self.action_size])\n",
    "        \n",
    "    def get_action(self, state):\n",
    "        q_state = self.q_table[state]\n",
    "        action_q = np.argmax(q_state)\n",
    "        action_random = super().get_action(state)\n",
    "        return action_q if self.eps < random.random() else action_random\n",
    "    \n",
    "    def train(self, experience):\n",
    "        state, action, next_state, reward, done = experience\n",
    "        \n",
    "        q_next = self.q_table[next_state]\n",
    "        q_next = np.zeros([self.action_size]) if done else q_next\n",
    "        q_target = reward + self.discount_rate * np.max(q_next)\n",
    "        \n",
    "        q_update = q_target - self.q_table[state, action]\n",
    "        self.q_table[state, action] += self.learning_rate * q_update\n",
    "        if done:\n",
    "            self.eps = 0.99 * self.eps\n",
    "        \n",
    "agent = QAgent(env)"
   ]
  },
  {
   "cell_type": "code",
   "execution_count": 20,
   "metadata": {},
   "outputs": [
    {
     "name": "stdout",
     "output_type": "stream",
     "text": [
      "state 14 action: 2\n",
      "  (Right)\n",
      "SFFF\n",
      "FHFH\n",
      "FFFH\n",
      "HFF\u001b[41mG\u001b[0m\n",
      "Episode 99, Total Reward 99.0, eps 0.002405009291311067\n",
      "[[8.32972004e-01 8.58734026e-01 8.07982771e-01 8.32972005e-01]\n",
      " [8.32971990e-01 3.67899666e-08 6.73192239e-01 8.01478170e-01]\n",
      " [7.74972040e-01 4.05778873e-01 2.11438233e-02 3.88608473e-01]\n",
      " [2.07035976e-01 4.40081114e-05 8.13369749e-03 1.03272854e-05]\n",
      " [8.58734016e-01 8.85292810e-01 2.42580640e-14 8.32971982e-01]\n",
      " [7.81168516e-05 1.89693743e-05 9.41110435e-05 2.50635455e-06]\n",
      " [1.17956136e-05 8.38131407e-01 2.01766711e-05 1.58414392e-01]\n",
      " [3.48547056e-05 7.72091684e-05 2.91711450e-05 9.13222963e-05]\n",
      " [8.85290924e-01 1.29599499e-11 9.12673000e-01 8.58733289e-01]\n",
      " [8.85288128e-01 9.40900000e-01 9.40691153e-01 1.61149522e-09]\n",
      " [8.76192588e-01 9.69998640e-01 3.53286547e-08 5.51293032e-01]\n",
      " [8.56633101e-05 9.81646490e-05 1.30465638e-05 5.04467236e-05]\n",
      " [5.17190424e-05 1.87603069e-05 8.17049456e-05 7.70417503e-05]\n",
      " [4.63389254e-10 9.39888800e-01 9.70000000e-01 9.08098306e-01]\n",
      " [9.39926504e-01 9.69866183e-01 1.00000000e+00 9.40554834e-01]\n",
      " [3.76274084e-05 8.76249792e-06 6.30516399e-05 3.04666602e-05]]\n"
     ]
    }
   ],
   "source": [
    "total_reward = 0\n",
    "for ep in range(100):\n",
    "    state = env.reset()\n",
    "    done = False\n",
    "    while not done:\n",
    "        action = agent.get_action(state)\n",
    "        print(f\"state {state} action: {action}\")\n",
    "        next_state, reward, done, info = env.step(action)\n",
    "        agent.train((state, action, next_state, reward, done))\n",
    "        state = next_state\n",
    "        total_reward += reward\n",
    "        env.render()\n",
    "        print(f\"Episode {ep}, Total Reward {total_reward}, eps {agent.eps}\")\n",
    "        print(agent.q_table)\n",
    "        time.sleep(0.01)\n",
    "        clear_output(wait=True)"
   ]
  },
  {
   "cell_type": "code",
   "execution_count": null,
   "metadata": {},
   "outputs": [],
   "source": []
  },
  {
   "cell_type": "code",
   "execution_count": null,
   "metadata": {},
   "outputs": [],
   "source": []
  },
  {
   "cell_type": "code",
   "execution_count": null,
   "metadata": {},
   "outputs": [],
   "source": []
  }
 ],
 "metadata": {
  "kernelspec": {
   "display_name": "Python 3",
   "language": "python",
   "name": "python3"
  },
  "language_info": {
   "codemirror_mode": {
    "name": "ipython",
    "version": 3
   },
   "file_extension": ".py",
   "mimetype": "text/x-python",
   "name": "python",
   "nbconvert_exporter": "python",
   "pygments_lexer": "ipython3",
   "version": "3.7.3"
  }
 },
 "nbformat": 4,
 "nbformat_minor": 2
}
